{
 "cells": [
  {
   "cell_type": "markdown",
   "metadata": {
    "application/vnd.databricks.v1+cell": {
     "cellMetadata": {},
     "inputWidgets": {},
     "nuid": "ac9e7300-5dc8-4251-b21d-2074b32af962",
     "showTitle": false,
     "tableResultSettingsMap": {},
     "title": ""
    }
   },
   "source": [
    "##Bronze table"
   ]
  },
  {
   "cell_type": "code",
   "execution_count": 0,
   "metadata": {
    "application/vnd.databricks.v1+cell": {
     "cellMetadata": {
      "byteLimit": 2048000,
      "rowLimit": 10000
     },
     "inputWidgets": {},
     "nuid": "23745e75-14a8-475b-a980-d2d5e26b422d",
     "showTitle": false,
     "tableResultSettingsMap": {},
     "title": ""
    }
   },
   "outputs": [],
   "source": [
    "CREATE TABLE IF NOT EXISTS dev.bronze.ecomm_sales (\n",
    "  Date string,\n",
    "  Product_Category string,\n",
    "  Price string,\n",
    "  Discount string,\n",
    "  Customer_Segment string,\n",
    "  Marketing_Spend string,\n",
    "  Units_Sold string\n",
    ")"
   ]
  },
  {
   "cell_type": "markdown",
   "metadata": {
    "application/vnd.databricks.v1+cell": {
     "cellMetadata": {},
     "inputWidgets": {},
     "nuid": "4c941429-5430-42ab-9651-262dab47f8a8",
     "showTitle": false,
     "tableResultSettingsMap": {},
     "title": ""
    }
   },
   "source": [
    "## Silver table"
   ]
  },
  {
   "cell_type": "code",
   "execution_count": 0,
   "metadata": {
    "application/vnd.databricks.v1+cell": {
     "cellMetadata": {
      "byteLimit": 2048000,
      "rowLimit": 10000
     },
     "inputWidgets": {},
     "nuid": "4da279d4-002f-46e1-bc74-7679997a236a",
     "showTitle": false,
     "tableResultSettingsMap": {},
     "title": ""
    }
   },
   "outputs": [],
   "source": [
    "CREATE TABLE IF NOT EXISTS dev.silver.ecomm_sales (\n",
    "  Date DATE,\n",
    "  Product_Category STRING,\n",
    "  Price DOUBLE,\n",
    "  Discount DOUBLE,\n",
    "  Customer_Segment STRING,\n",
    "  Marketing_Spend DOUBLE,\n",
    "  Units_Sold INT\n",
    ")"
   ]
  },
  {
   "cell_type": "markdown",
   "metadata": {
    "application/vnd.databricks.v1+cell": {
     "cellMetadata": {},
     "inputWidgets": {},
     "nuid": "6d40b42a-ca0d-4127-b4ae-cdc1d2146f18",
     "showTitle": false,
     "tableResultSettingsMap": {},
     "title": ""
    }
   },
   "source": [
    "## Gold tables"
   ]
  },
  {
   "cell_type": "code",
   "execution_count": 0,
   "metadata": {
    "application/vnd.databricks.v1+cell": {
     "cellMetadata": {
      "byteLimit": 2048000,
      "rowLimit": 10000
     },
     "inputWidgets": {},
     "nuid": "d2ff37bb-a5e0-439e-8231-78a738b944fa",
     "showTitle": false,
     "tableResultSettingsMap": {},
     "title": ""
    }
   },
   "outputs": [],
   "source": [
    "\n",
    "CREATE TABLE IF NOT EXISTS dev.gold.report_total_revenue_units_by_category (\n",
    "  Product_Category STRING,\n",
    "  Total_Revenue DOUBLE,\n",
    "  Total_Units_Sold BIGINT\n",
    ");\n",
    "\n",
    "CREATE TABLE IF NOT EXISTS dev.gold.report_avg_discount_price_by_segment (\n",
    "  Customer_Segment STRING,\n",
    "  Avg_Discount DOUBLE,\n",
    "  Avg_Price DOUBLE\n",
    ");\n",
    "\n",
    "CREATE TABLE IF NOT EXISTS dev.gold.report_monthly_revenue_trend (\n",
    "  order_year INT,\n",
    "  order_month INT,\n",
    "  Monthly_Revenue DOUBLE\n",
    ");\n",
    "\n",
    "CREATE TABLE IF NOT EXISTS dev.gold.report_marketing_spend_efficiency (\n",
    "  Product_Category STRING,\n",
    "  Total_Revenue DOUBLE,\n",
    "  Total_Marketing_Spend DOUBLE,\n",
    "  Revenue_per_Marketing_Spend DOUBLE\n",
    ")"
   ]
  }
 ],
 "metadata": {
  "application/vnd.databricks.v1+notebook": {
   "computePreferences": null,
   "dashboards": [],
   "environmentMetadata": {
    "base_environment": "",
    "environment_version": "2"
   },
   "inputWidgetPreferences": null,
   "language": "sql",
   "notebookMetadata": {
    "pythonIndentUnit": 4
   },
   "notebookName": "Untitled Notebook 2025-08-16 12_23_41",
   "widgets": {}
  },
  "language_info": {
   "name": "sql"
  }
 },
 "nbformat": 4,
 "nbformat_minor": 0
}
