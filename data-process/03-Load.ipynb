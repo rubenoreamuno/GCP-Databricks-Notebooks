{
 "cells": [
  {
   "cell_type": "code",
   "execution_count": 0,
   "metadata": {
    "application/vnd.databricks.v1+cell": {
     "cellMetadata": {
      "byteLimit": 2048000,
      "rowLimit": 10000
     },
     "inputWidgets": {},
     "nuid": "f56c16b0-5fb5-4235-b578-cfda81d7fd75",
     "showTitle": false,
     "tableResultSettingsMap": {},
     "title": ""
    }
   },
   "outputs": [],
   "source": [
    "from pyspark.sql.functions import col, trim, lower, when, regexp_replace, to_date, year, month"
   ]
  },
  {
   "cell_type": "code",
   "execution_count": 0,
   "metadata": {
    "application/vnd.databricks.v1+cell": {
     "cellMetadata": {
      "byteLimit": 2048000,
      "rowLimit": 10000
     },
     "inputWidgets": {},
     "nuid": "8e8adc02-cc2c-4d28-9f1d-e3d3857da7c2",
     "showTitle": false,
     "tableResultSettingsMap": {},
     "title": ""
    }
   },
   "outputs": [],
   "source": [
    "dbutils.widgets.removeAll()"
   ]
  },
  {
   "cell_type": "code",
   "execution_count": 0,
   "metadata": {
    "application/vnd.databricks.v1+cell": {
     "cellMetadata": {
      "byteLimit": 2048000,
      "rowLimit": 10000
     },
     "inputWidgets": {},
     "nuid": "ad701ee5-9262-4dbe-a8e6-d413c1b48661",
     "showTitle": false,
     "tableResultSettingsMap": {},
     "title": ""
    }
   },
   "outputs": [],
   "source": [
    "_env = \"dev\"\n",
    "target_schema_name = \"gold\""
   ]
  },
  {
   "cell_type": "code",
   "execution_count": 0,
   "metadata": {
    "application/vnd.databricks.v1+cell": {
     "cellMetadata": {
      "byteLimit": 2048000,
      "rowLimit": 10000
     },
     "inputWidgets": {},
     "nuid": "0383f8b5-22f3-4dc9-8015-dbec5e2165da",
     "showTitle": false,
     "tableResultSettingsMap": {},
     "title": ""
    }
   },
   "outputs": [],
   "source": [
    "input_schema = \"silver\"\n",
    "input_table_name = f\"{_env}.{input_schema}.{table_name}\""
   ]
  },
  {
   "cell_type": "code",
   "execution_count": 0,
   "metadata": {
    "application/vnd.databricks.v1+cell": {
     "cellMetadata": {
      "byteLimit": 2048000,
      "rowLimit": 10000
     },
     "inputWidgets": {},
     "nuid": "1f16e1c9-ddb6-4c89-b85b-bd0513a0e682",
     "showTitle": false,
     "tableResultSettingsMap": {},
     "title": ""
    }
   },
   "outputs": [],
   "source": [
    "df = spark.read.table(input_table_name)"
   ]
  },
  {
   "cell_type": "markdown",
   "metadata": {
    "application/vnd.databricks.v1+cell": {
     "cellMetadata": {
      "byteLimit": 2048000,
      "rowLimit": 10000
     },
     "inputWidgets": {},
     "nuid": "006899ab-59fd-4e64-b594-d535a4ddac91",
     "showTitle": false,
     "tableResultSettingsMap": {},
     "title": ""
    }
   },
   "source": [
    "### Computing aggregated reports."
   ]
  },
  {
   "cell_type": "code",
   "execution_count": 0,
   "metadata": {
    "application/vnd.databricks.v1+cell": {
     "cellMetadata": {
      "byteLimit": 2048000,
      "rowLimit": 10000
     },
     "inputWidgets": {},
     "nuid": "4398e7c5-53d2-48b4-a049-64c18aca2174",
     "showTitle": false,
     "tableResultSettingsMap": {},
     "title": ""
    }
   },
   "outputs": [],
   "source": [
    "v_table_name = \"report_total_revenue_units_by_category\"\n",
    "\n",
    "# 1. Total Revenue and Units Sold by Product Category\n",
    "report1 = df.groupBy(\"Product_Category\").agg(\n",
    "    {\"Revenue\": \"sum\", \"Units_Sold\": \"sum\"}) \\\n",
    "    .withColumnRenamed(\"sum(Revenue)\", \"Total_Revenue\") \\\n",
    "    .withColumnRenamed(\"sum(Units_Sold)\", \"Total_Units_Sold\")\n",
    "\n",
    "report1.write.format(\"delta\") \\\n",
    "    .mode(\"overwrite\")\\\n",
    "    .option(\"mergeSchema\", \"true\") \\\n",
    "    .saveAsTable(f\"{_env}.{target_schema_name}.{v_table_name}\"\n",
    ")"
   ]
  },
  {
   "cell_type": "code",
   "execution_count": 0,
   "metadata": {
    "application/vnd.databricks.v1+cell": {
     "cellMetadata": {
      "byteLimit": 2048000,
      "rowLimit": 10000
     },
     "inputWidgets": {},
     "nuid": "e4fb7a85-afc6-4a0a-9c27-606de4bb35cc",
     "showTitle": false,
     "tableResultSettingsMap": {},
     "title": ""
    }
   },
   "outputs": [],
   "source": [
    "v_table_name = \"report_avg_discount_price_by_segment\"\n",
    "\n",
    "# 2. Average Discount and Price by Customer Segment\n",
    "report2 = df.groupBy(\"Customer_Segment\").agg(\n",
    "    {\"Discount\": \"avg\", \"Price\": \"avg\"}) \\\n",
    "    .withColumnRenamed(\"avg(Discount)\", \"Avg_Discount\") \\\n",
    "    .withColumnRenamed(\"avg(Price)\", \"Avg_Price\")\n",
    "\n",
    "report2.write.format(\"delta\") \\\n",
    "    .mode(\"overwrite\")\\\n",
    "    .option(\"mergeSchema\", \"true\") \\\n",
    "    .saveAsTable(f\"{_env}.{target_schema_name}.{v_table_name}\"\n",
    ")"
   ]
  },
  {
   "cell_type": "code",
   "execution_count": 0,
   "metadata": {
    "application/vnd.databricks.v1+cell": {
     "cellMetadata": {
      "byteLimit": 2048000,
      "rowLimit": 10000
     },
     "inputWidgets": {},
     "nuid": "6b6f1ae9-01e2-4c37-8559-68aef69735e7",
     "showTitle": false,
     "tableResultSettingsMap": {},
     "title": ""
    }
   },
   "outputs": [],
   "source": [
    "v_table_name = \"report_monthly_revenue_trend\"\n",
    "\n",
    "# 3. Monthly Revenue Trend\n",
    "report3 = df.groupBy(\"order_year\", \"order_month\").agg(\n",
    "    {\"Revenue\": \"sum\"}) \\\n",
    "    .withColumnRenamed(\"sum(Revenue)\", \"Monthly_Revenue\") \\\n",
    "    .orderBy(\"order_year\", \"order_month\")\n",
    "\n",
    "report3.write.format(\"delta\") \\\n",
    "    .mode(\"overwrite\")\\\n",
    "    .option(\"mergeSchema\", \"true\") \\\n",
    "    .saveAsTable(f\"{_env}.{target_schema_name}.{v_table_name}\"\n",
    ")"
   ]
  },
  {
   "cell_type": "code",
   "execution_count": 0,
   "metadata": {
    "application/vnd.databricks.v1+cell": {
     "cellMetadata": {
      "byteLimit": 2048000,
      "rowLimit": 10000
     },
     "inputWidgets": {},
     "nuid": "449906b5-4d11-4d6f-b0bc-950fddbca2a2",
     "showTitle": false,
     "tableResultSettingsMap": {},
     "title": ""
    }
   },
   "outputs": [],
   "source": [
    "v_table_name = \"report_marketing_spend_efficiency\"\n",
    "\n",
    "# 4. Marketing Spend Efficiency by Product Category\n",
    "report4 = df.groupBy(\"Product_Category\").agg(\n",
    "    {\"Revenue\": \"sum\", \"Marketing_Spend\": \"sum\"}\n",
    ")\\\n",
    "    .withColumnRenamed(\"sum(Revenue)\", \"Total_Revenue\") \\\n",
    "    .withColumnRenamed(\"sum(Marketing_Spend)\", \"Total_Marketing_Spend\") \\\n",
    "    .withColumn(\"Revenue_per_Marketing_Spend\", col(\"Total_Revenue\") / col(\"Total_Marketing_Spend\"))\n",
    "\n",
    "report4.write.format(\"delta\") \\\n",
    "    .mode(\"overwrite\")\\\n",
    "    .option(\"mergeSchema\", \"true\") \\\n",
    "    .saveAsTable(f\"{_env}.{target_schema_name}.{v_table_name}\"\n",
    ")"
   ]
  }
 ],
 "metadata": {
  "application/vnd.databricks.v1+notebook": {
   "computePreferences": null,
   "dashboards": [],
   "environmentMetadata": {
    "base_environment": "",
    "environment_version": "2"
   },
   "inputWidgetPreferences": null,
   "language": "python",
   "notebookMetadata": {
    "pythonIndentUnit": 4
   },
   "notebookName": "03-Load",
   "widgets": {}
  },
  "language_info": {
   "name": "python"
  }
 },
 "nbformat": 4,
 "nbformat_minor": 0
}
