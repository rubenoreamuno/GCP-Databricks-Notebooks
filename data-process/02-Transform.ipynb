{
 "cells": [
  {
   "cell_type": "code",
   "execution_count": 0,
   "metadata": {
    "application/vnd.databricks.v1+cell": {
     "cellMetadata": {
      "byteLimit": 2048000,
      "rowLimit": 10000
     },
     "inputWidgets": {},
     "nuid": "d732b9bb-909b-454b-890c-e31e4bb8ec69",
     "showTitle": false,
     "tableResultSettingsMap": {},
     "title": ""
    }
   },
   "outputs": [],
   "source": [
    "from pyspark.sql.functions import col, trim, lower, when, regexp_replace, to_date, year, month"
   ]
  },
  {
   "cell_type": "code",
   "execution_count": 0,
   "metadata": {
    "application/vnd.databricks.v1+cell": {
     "cellMetadata": {
      "byteLimit": 2048000,
      "rowLimit": 10000
     },
     "inputWidgets": {},
     "nuid": "52ac166f-ca19-4617-a329-391875e43da7",
     "showTitle": false,
     "tableResultSettingsMap": {},
     "title": ""
    }
   },
   "outputs": [],
   "source": [
    "dbutils.widgets.removeAll()"
   ]
  },
  {
   "cell_type": "code",
   "execution_count": 0,
   "metadata": {
    "application/vnd.databricks.v1+cell": {
     "cellMetadata": {
      "byteLimit": 2048000,
      "rowLimit": 10000
     },
     "inputWidgets": {},
     "nuid": "b057b8db-9183-4e6f-9c26-5e867b8c8a3f",
     "showTitle": false,
     "tableResultSettingsMap": {},
     "title": ""
    }
   },
   "outputs": [],
   "source": [
    "_env = \"dev\"\n",
    "target_schema_name = \"silver\"\n",
    "table_name = \"ecomm_sales\""
   ]
  },
  {
   "cell_type": "code",
   "execution_count": 0,
   "metadata": {
    "application/vnd.databricks.v1+cell": {
     "cellMetadata": {
      "byteLimit": 2048000,
      "rowLimit": 10000
     },
     "inputWidgets": {},
     "nuid": "459b73ce-6548-471c-ad84-d02cd66c0ffb",
     "showTitle": false,
     "tableResultSettingsMap": {},
     "title": ""
    }
   },
   "outputs": [],
   "source": [
    "input_schema = \"bronze\"\n",
    "input_table_name = f\"{_env}.{input_schema}.{table_name}\""
   ]
  },
  {
   "cell_type": "code",
   "execution_count": 0,
   "metadata": {
    "application/vnd.databricks.v1+cell": {
     "cellMetadata": {
      "byteLimit": 2048000,
      "rowLimit": 10000
     },
     "inputWidgets": {},
     "nuid": "f5e24347-8d7e-47d7-b4c6-4d0f4cee5a56",
     "showTitle": false,
     "tableResultSettingsMap": {},
     "title": ""
    }
   },
   "outputs": [],
   "source": [
    "df = spark.read.table(input_table_name)"
   ]
  },
  {
   "cell_type": "markdown",
   "metadata": {
    "application/vnd.databricks.v1+cell": {
     "cellMetadata": {},
     "inputWidgets": {},
     "nuid": "6696a4a7-0aec-4a8f-96a4-a91c87fe525f",
     "showTitle": false,
     "tableResultSettingsMap": {},
     "title": ""
    }
   },
   "source": [
    "### Transforming, data cleansing and feature engineering."
   ]
  },
  {
   "cell_type": "code",
   "execution_count": 0,
   "metadata": {
    "application/vnd.databricks.v1+cell": {
     "cellMetadata": {
      "byteLimit": 2048000,
      "rowLimit": 10000
     },
     "inputWidgets": {},
     "nuid": "3037d5f6-0c7b-4d31-ab2e-cbeb60c68d04",
     "showTitle": false,
     "tableResultSettingsMap": {},
     "title": ""
    }
   },
   "outputs": [],
   "source": [
    "# Casting all fields to right data types.\n",
    "casted_df = (\n",
    "    df\n",
    "    .withColumn(\"Date\", to_date(col(\"Date\"), \"dd-MM-yyyy\"))\n",
    "    .withColumn(\"Product_Category\", trim(lower(col(\"Product_Category\"))))\n",
    "    .withColumn(\"Price\", col(\"Price\").cast(\"double\"))\n",
    "    .withColumn(\"Discount\", col(\"Discount\").cast(\"double\"))\n",
    "    .withColumn(\"Customer_Segment\", trim(lower(col(\"Customer_Segment\"))))\n",
    "    .withColumn(\"Marketing_Spend\", col(\"Marketing_Spend\").cast(\"double\"))\n",
    "    .withColumn(\"Units_Sold\", col(\"Units_Sold\").cast(\"int\"))\n",
    ")"
   ]
  },
  {
   "cell_type": "code",
   "execution_count": 0,
   "metadata": {
    "application/vnd.databricks.v1+cell": {
     "cellMetadata": {
      "byteLimit": 2048000,
      "rowLimit": 10000
     },
     "inputWidgets": {},
     "nuid": "0cbb4125-b558-4a12-a017-56bf0d6b607b",
     "showTitle": false,
     "tableResultSettingsMap": {},
     "title": ""
    }
   },
   "outputs": [],
   "source": [
    "# Data cleansing\n",
    "cleansed_df = (\n",
    "    casted_df\n",
    "    .filter(col(\"Date\").isNotNull() & col(\"Product_Category\").isNotNull())\n",
    "    .withColumn(\"Price\", when(col(\"Price\") < 0, None).otherwise(col(\"Price\")))\n",
    "    .withColumn(\"Discount\", when(col(\"Discount\") < 0, 0).otherwise(col(\"Discount\")))\n",
    "    .withColumn(\"Marketing_Spend\", when(col(\"Marketing_Spend\") < 0, 0).otherwise(col(\"Marketing_Spend\")))\n",
    "    .withColumn(\"Units_Sold\", when(col(\"Units_Sold\") < 0, 0).otherwise(col(\"Units_Sold\")))\n",
    "    .withColumn(\"Product_Category\", regexp_replace(col(\"Product_Category\"), \"[^a-z]\", \"\"))\n",
    "    .withColumn(\"Customer_Segment\", regexp_replace(col(\"Customer_Segment\"), \"[^a-z]\", \"\"))\n",
    ")"
   ]
  },
  {
   "cell_type": "code",
   "execution_count": 0,
   "metadata": {
    "application/vnd.databricks.v1+cell": {
     "cellMetadata": {
      "byteLimit": 2048000,
      "rowLimit": 10000
     },
     "inputWidgets": {},
     "nuid": "5d5476f2-bd77-419c-987d-3a26969b4370",
     "showTitle": false,
     "tableResultSettingsMap": {},
     "title": ""
    }
   },
   "outputs": [],
   "source": [
    "# Feature engineering\n",
    "featured_df = (\n",
    "    cleansed_df\n",
    "    .withColumn(\"order_month\", month(col(\"Date\")))\n",
    "    .withColumn(\"order_year\", year(col(\"Date\")))\n",
    "    .withColumn(\"Revenue\", (col(\"Price\") - col(\"Discount\")) * col(\"Units_Sold\"))\n",
    ")"
   ]
  },
  {
   "cell_type": "markdown",
   "metadata": {
    "application/vnd.databricks.v1+cell": {
     "cellMetadata": {},
     "inputWidgets": {},
     "nuid": "61b99c88-4d47-4001-91b1-c643ee7f87c3",
     "showTitle": false,
     "tableResultSettingsMap": {},
     "title": ""
    }
   },
   "source": [
    "### Saving to silver table."
   ]
  },
  {
   "cell_type": "code",
   "execution_count": 0,
   "metadata": {
    "application/vnd.databricks.v1+cell": {
     "cellMetadata": {
      "byteLimit": 2048000,
      "rowLimit": 10000
     },
     "inputWidgets": {},
     "nuid": "290bac63-0e06-4003-b5b7-057d0100f364",
     "showTitle": false,
     "tableResultSettingsMap": {},
     "title": ""
    }
   },
   "outputs": [],
   "source": [
    "featured_df.write.format(\"delta\") \\\n",
    "    .mode(\"overwrite\")\\\n",
    "    .option(\"mergeSchema\", \"true\") \\\n",
    "    .saveAsTable(f\"{_env}.{target_schema_name}.{table_name}\"\n",
    ")"
   ]
  }
 ],
 "metadata": {
  "application/vnd.databricks.v1+notebook": {
   "computePreferences": null,
   "dashboards": [],
   "environmentMetadata": {
    "base_environment": "",
    "environment_version": "2"
   },
   "inputWidgetPreferences": null,
   "language": "python",
   "notebookMetadata": {
    "pythonIndentUnit": 4
   },
   "notebookName": "02-Transform",
   "widgets": {}
  },
  "language_info": {
   "name": "python"
  }
 },
 "nbformat": 4,
 "nbformat_minor": 0
}
